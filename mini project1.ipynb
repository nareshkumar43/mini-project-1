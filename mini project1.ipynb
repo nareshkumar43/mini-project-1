{
 "cells": [
  {
   "cell_type": "code",
   "execution_count": null,
   "id": "a6e67933",
   "metadata": {},
   "outputs": [],
   "source": [
    "import numpy as np \n",
    "import pandas as pd \n",
    "import seaborn as sns \n",
    "import os\n",
    "import matplotlib.ticker as mtick \n",
    "import matplotlib.pyplot as plt\n",
    "from plotnine import *\n",
    "from sklearn import preprocessing\n",
    "from sklearn.preprocessing import MinMaxScaler,StandardScaler, PowerTransformer, PolynomialFeatures\n",
    "from sklearn.decomposition import PCA\n",
    "from imblearn.over_sampling import SMOTE\n",
    "from sklearn.pipeline import Pipeline\n",
    "from imblearn.under_sampling import NearMiss,CondensedNearestNeighbour\n",
    "from sklearn.utils import class_weight\n",
    "from sklearn import metrics\n",
    "from sklearn.metrics import accuracy_score, r2_score,confusion_matrix, plot_confusion_matrix, classification_report,f1_score\n",
    "from sklearn.model_selection import GridSearchCV, RandomizedSearchCV, train_test_split, StratifiedKFold, cross_val_score,RepeatedStratifiedKFold\n",
    "from sklearn.tree import DecisionTreeClassifier, ExtraTreeClassifier\n",
    "from sklearn.ensemble import RandomForestClassifier, VotingClassifier,AdaBoostClassifier,GradientBoostingClassifier\n",
    "from sklearn.linear_model import LogisticRegression\n",
    "from sklearn.svm import SVC\n",
    "from sklearn.neighbors import KNeighborsClassifier\n",
    "import xgboost as xgb\n",
    "import lightgbm as lgb\n",
    "import catboost as cb\n",
    "from lightgbm import *\n",
    "from sklearn.neural_network import MLPClassifier\n",
    "from scipy import stats\n",
    "import warnings\n",
    "warnings.filterwarnings('ignore')\n",
    "sns.set_style(\"darkgrid\")"
   ]
  },
  {
   "cell_type": "code",
   "execution_count": null,
   "id": "aa7cf527",
   "metadata": {},
   "outputs": [],
   "source": [
    "df= pd.read_csv('Dry_Bean_csv.csv')"
   ]
  },
  {
   "cell_type": "code",
   "execution_count": null,
   "id": "6203d84c",
   "metadata": {},
   "outputs": [],
   "source": [
    "df"
   ]
  },
  {
   "cell_type": "code",
   "execution_count": null,
   "id": "075ef91c",
   "metadata": {},
   "outputs": [],
   "source": [
    "df['y'].unique()"
   ]
  },
  {
   "cell_type": "code",
   "execution_count": null,
   "id": "9ed585a4",
   "metadata": {},
   "outputs": [],
   "source": [
    "df.describe(percentiles=[.25, .5, .75, 0.995]).T"
   ]
  },
  {
   "cell_type": "code",
   "execution_count": null,
   "id": "8916a2b1",
   "metadata": {},
   "outputs": [],
   "source": [
    "df.info()"
   ]
  },
  {
   "cell_type": "code",
   "execution_count": null,
   "id": "bbcb43e9",
   "metadata": {},
   "outputs": [],
   "source": [
    "df.duplicated(subset=None, keep='first').sum()"
   ]
  },
  {
   "cell_type": "code",
   "execution_count": null,
   "id": "67842806",
   "metadata": {},
   "outputs": [],
   "source": [
    "print(df['y'].value_counts())\n",
    "_ = sns.countplot(x='y', data=df)"
   ]
  },
  {
   "cell_type": "code",
   "execution_count": null,
   "id": "e7336841",
   "metadata": {},
   "outputs": [],
   "source": [
    "Numeric_cols = df.drop(columns=['y']).columns\n",
    "\n",
    "fig, ax = plt.subplots(4, 4, figsize=(15, 12))\n",
    "for variable, subplot in zip(Numeric_cols, ax.flatten()):\n",
    "    g=sns.histplot(df[variable],bins=30, kde=True, ax=subplot)\n",
    "    g.lines[0].set_color('crimson')\n",
    "    g.axvline(x=df[variable].mean(), color='m', label='Mean', linestyle='--', linewidth=2)\n",
    "plt.tight_layout()\n"
   ]
  },
  {
   "cell_type": "code",
   "execution_count": null,
   "id": "dad2457e",
   "metadata": {},
   "outputs": [],
   "source": [
    "fig, ax = plt.subplots(8, 2, figsize=(15, 25))\n",
    "\n",
    "for variable, subplot in zip(Numeric_cols, ax.flatten()):\n",
    "    sns.boxplot(x=df['y'], y= df[variable], ax=subplot)\n",
    "plt.tight_layout()"
   ]
  },
  {
   "cell_type": "code",
   "execution_count": null,
   "id": "ba54e269",
   "metadata": {},
   "outputs": [],
   "source": [
    "fig, ax = plt.subplots(4, 4, figsize=(15, 12))\n",
    "\n",
    "for variable, subplot in zip(Numeric_cols, ax.flatten()):\n",
    "    sns.boxplot(y= df[variable], ax=subplot)\n",
    "plt.tight_layout()"
   ]
  },
  {
   "cell_type": "code",
   "execution_count": null,
   "id": "6deb67a5",
   "metadata": {},
   "outputs": [],
   "source": [
    "plt.figure(figsize=(12,12))\n",
    "sns.heatmap(df.corr(\"pearson\"),vmin=-1, vmax=1,cmap='coolwarm',annot=True, square=True)"
   ]
  },
  {
   "cell_type": "code",
   "execution_count": null,
   "id": "4717b8d3",
   "metadata": {},
   "outputs": [],
   "source": [
    "df['Bounding_rectangular_area'] = df['Area']/df['Extent']"
   ]
  },
  {
   "cell_type": "code",
   "execution_count": null,
   "id": "8cd7d7bb",
   "metadata": {},
   "outputs": [],
   "source": [
    "le = preprocessing.LabelEncoder()\n",
    "df['y'] = le.fit_transform(df['y'])"
   ]
  },
  {
   "cell_type": "code",
   "execution_count": null,
   "id": "b8996016",
   "metadata": {},
   "outputs": [],
   "source": [
    "df['y'].unique()"
   ]
  },
  {
   "cell_type": "code",
   "execution_count": null,
   "id": "bbb27652",
   "metadata": {},
   "outputs": [],
   "source": [
    "_ = sns.countplot(x='y', data=df)"
   ]
  },
  {
   "cell_type": "code",
   "execution_count": null,
   "id": "d00a6c30",
   "metadata": {},
   "outputs": [],
   "source": [
    "features = df.drop(columns=['y']).columns\n",
    "train_df, val_df = train_test_split(df, test_size=0.05, random_state=42, stratify = df['y'])"
   ]
  },
  {
   "cell_type": "code",
   "execution_count": null,
   "id": "2e995c2a",
   "metadata": {},
   "outputs": [],
   "source": [
    "train_df = train_df[train_df['Eccentricity'] >= 0.25]\n",
    "train_df = train_df[train_df['Solidity'] >= 0.94]\n",
    "train_df = train_df[train_df['roundness'] >= 0.53]\n",
    "train_df = train_df[train_df['ShapeFactor4'] >= 0.96]"
   ]
  },
  {
   "cell_type": "code",
   "execution_count": null,
   "id": "03a89814",
   "metadata": {},
   "outputs": [],
   "source": [
    "X_train = train_df[features]\n",
    "y_train = train_df['y']\n",
    "\n",
    "X_val = val_df[features]\n",
    "y_val = val_df['y']"
   ]
  },
  {
   "cell_type": "code",
   "execution_count": null,
   "id": "db8b9234",
   "metadata": {},
   "outputs": [],
   "source": [
    "cols = ['Area', 'ConvexArea','MajorAxisLength','Perimeter','MinorAxisLength','EquivDiameter','Eccentricity',\n",
    "                'ShapeFactor2','Extent','roundness','AspectRation','Compactness','ShapeFactor1','ShapeFactor3',\n",
    "               'ShapeFactor4','Solidity','Bounding_rectangular_area']\n",
    "\n",
    "sc = StandardScaler()\n",
    "X_train_scaled = sc.fit_transform(X_train[cols])\n",
    "X_train[cols] = pd.DataFrame(X_train_scaled, index=X_train.index)\n",
    "\n",
    "X_val_scaled = sc.transform(X_val[cols])\n",
    "X_val[cols] = pd.DataFrame(X_val_scaled, index=X_val.index)"
   ]
  },
  {
   "cell_type": "code",
   "execution_count": null,
   "id": "28bbc624",
   "metadata": {},
   "outputs": [],
   "source": [
    "X_train = X_train.drop(columns=['ShapeFactor1','ShapeFactor3','Compactness','EquivDiameter','Area',\n",
    "                                'Perimeter','AspectRation'])\n",
    "X_val = X_val.drop(columns=['ShapeFactor1','ShapeFactor3','Compactness','EquivDiameter','Area',\n",
    "                            'Perimeter','AspectRation'])"
   ]
  },
  {
   "cell_type": "code",
   "execution_count": null,
   "id": "cd8d4efe",
   "metadata": {},
   "outputs": [],
   "source": [
    "model_mlp= MLPClassifier(random_state=1, max_iter=500, alpha=0.005)\n",
    "\n",
    "model_mlp.fit(X_train, y_train)\n",
    "\n",
    "print(\"Train F1_Score: \", metrics.f1_score(y_train, model_mlp.predict(X_train), average='micro'))\n",
    "print(\"Val F1_Score: \", metrics.f1_score(y_val, model_mlp.predict(X_val), average='micro'))\n",
    "plot_confusion_matrix(model_mlp, X_val, y_val)  \n",
    "plt.xticks(rotation=90)\n",
    "plt.grid(False)\n",
    "plt.title('Dry Bean Confusion Matrix')\n",
    "plt.show()  "
   ]
  },
  {
   "cell_type": "code",
   "execution_count": null,
   "id": "ce14f1bd",
   "metadata": {},
   "outputs": [],
   "source": [
    "model_xgb= xgb.XGBClassifier(random_state=42,verbosity=0, min_child_weight=2,\n",
    "                             max_depth=4, learning_rate=0.15, gamma=0.22, colsample_bytree=0.5)\n",
    "\n",
    "model_xgb.fit(X_train, y_train)\n",
    "\n",
    "print(\"Train F1_Score: \", metrics.f1_score(y_train, model_xgb.predict(X_train), average='micro'))\n",
    "print(\"Val F1_Score: \", metrics.f1_score(y_val, model_xgb.predict(X_val), average='micro'))\n",
    "plot_confusion_matrix(model_mlp, X_val, y_val)  \n",
    "plt.xticks(rotation=90)\n",
    "plt.grid(False)\n",
    "plt.title('Dry Bean Confusion Matrix')\n",
    "plt.show()  "
   ]
  },
  {
   "cell_type": "code",
   "execution_count": null,
   "id": "b86ec22e",
   "metadata": {},
   "outputs": [],
   "source": [
    "model_cb= cb.CatBoostClassifier(random_state=42,learning_rate=0.1, l2_leaf_reg=4, iterations=600, depth= 6)\n",
    "\n",
    "model_cb.fit(X_train, y_train)\n",
    "\n",
    "print(\"Train F1_Score: \", metrics.f1_score(y_train, model_cb.predict(X_train), average='micro'))\n",
    "print(\"Val F1_Score: \", metrics.f1_score(y_val, model_cb.predict(X_val), average='micro'))\n",
    "plot_confusion_matrix(model_cb, X_val, y_val)  \n",
    "plt.xticks(rotation=90)\n",
    "plt.grid(False)\n",
    "plt.title('Dry Bean Confusion Matrix')\n",
    "plt.show()  "
   ]
  },
  {
   "cell_type": "code",
   "execution_count": null,
   "id": "18a86ee0",
   "metadata": {},
   "outputs": [],
   "source": [
    "model_lgb = lgb.LGBMClassifier(random_state=42,silent=True,subsample=0.8, reg_lambda=0.1,reg_alpha=1, num_leaves=5, \n",
    "                             n_estimators=100, min_child_samples=5, max_depth=5, learning_rate=0.12, \n",
    "                             colsample_bytree=0.5, boosting_type='goss', metric='multi_error', num_class=7)\n",
    "\n",
    "model_lgb.fit(X_train, y_train)\n",
    "\n",
    "print(\"Train F1_Score: \", metrics.f1_score(y_train, model_lgb.predict(X_train), average='micro'))\n",
    "print(\"Val F1_Score: \", metrics.f1_score(y_val, model_lgb.predict(X_val), average='micro'))\n",
    "plot_confusion_matrix(model_lgb, X_val, y_val)  \n",
    "plt.xticks(rotation=90)\n",
    "plt.grid(False)\n",
    "plt.title('Dry Bean Confusion Matrix')\n",
    "plt.show()  "
   ]
  },
  {
   "cell_type": "code",
   "execution_count": null,
   "id": "f63f0adb",
   "metadata": {},
   "outputs": [],
   "source": [
    "model_svc = SVC(probability=True, kernel='rbf', C=25)\n",
    "\n",
    "model_svc.fit(X_train, y_train)\n",
    "\n",
    "print(\"Train F1_Score: \", metrics.f1_score(y_train, model_svc.predict(X_train), average='micro'))\n",
    "print(\"Val F1_Score: \", metrics.f1_score(y_val, model_svc.predict(X_val), average='micro'))\n",
    "plot_confusion_matrix(model_lgb, X_val, y_val)  \n",
    "plt.xticks(rotation=90)\n",
    "plt.grid(False)\n",
    "plt.title('Dry Bean Confusion Matrix')\n",
    "plt.show()  "
   ]
  },
  {
   "cell_type": "code",
   "execution_count": null,
   "id": "47fd6b1a",
   "metadata": {},
   "outputs": [],
   "source": [
    "voting_model = VotingClassifier(estimators=[('xgb', model_xgb), ('lgb', model_lgb),('mlp', model_mlp),\n",
    "                                            ('cb', model_cb)], voting='soft')\n",
    "\n",
    "voting_model.fit(X_train, y_train)\n",
    "\n",
    "print(\"F1_Score: \", metrics.f1_score(y_val, voting_model.predict(X_val), average='micro'))\n",
    "plot_confusion_matrix(voting_model, X_val, y_val)  \n",
    "plt.xticks(rotation=90)\n",
    "plt.grid(False)\n",
    "plt.title('Dry Bean Confusion Matrix')\n",
    "plt.show()"
   ]
  },
  {
   "cell_type": "code",
   "execution_count": null,
   "id": "64ec7ce5",
   "metadata": {},
   "outputs": [],
   "source": [
    "for clf in (model_svc, model_lgb, model_xgb, model_mlp, model_cb, voting_model):\n",
    "    y_pred = clf.predict(X_val)\n",
    "    print(clf.__class__.__name__, metrics.f1_score(y_val, y_pred, average='micro'))"
   ]
  },
  {
   "cell_type": "code",
   "execution_count": null,
   "id": "184e9903",
   "metadata": {},
   "outputs": [],
   "source": [
    "test_df = pd.read_csv('dataset/test_dry.csv')\n",
    "X_test = test_df.drop(columns=['ID'])\n",
    "\n",
    "X_test['Bounding_rectangular_area'] = X_test['Area']/X_test['Extent']\n",
    "\n",
    "\n",
    "X_test_scaled = sc.transform(X_test[cols])\n",
    "X_test[cols] = pd.DataFrame(X_test_scaled, index=X_test.index)\n",
    "\n",
    "\n",
    "X_test = X_test.drop(columns=['ShapeFactor1','ShapeFactor3','Compactness','EquivDiameter','Area',\n",
    "                              'Perimeter','AspectRation'])\n",
    "\n",
    "y_test_pred = voting_model.predict(X_test)"
   ]
  },
  {
   "cell_type": "code",
   "execution_count": null,
   "id": "c0db6b0c",
   "metadata": {},
   "outputs": [],
   "source": [
    "test_df['y'] = le.inverse_transform(y_test_pred)"
   ]
  },
  {
   "cell_type": "code",
   "execution_count": null,
   "id": "12ddad8a",
   "metadata": {},
   "outputs": [],
   "source": []
  }
 ],
 "metadata": {
  "kernelspec": {
   "display_name": "Python 3 (ipykernel)",
   "language": "python",
   "name": "python3"
  },
  "language_info": {
   "codemirror_mode": {
    "name": "ipython",
    "version": 3
   },
   "file_extension": ".py",
   "mimetype": "text/x-python",
   "name": "python",
   "nbconvert_exporter": "python",
   "pygments_lexer": "ipython3",
   "version": "3.9.12"
  }
 },
 "nbformat": 4,
 "nbformat_minor": 5
}
